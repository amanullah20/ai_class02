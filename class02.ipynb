{
 "cells": [
  {
   "cell_type": "code",
   "execution_count": 1,
   "id": "b5031171",
   "metadata": {},
   "outputs": [
    {
     "data": {
      "text/plain": [
       "'data sciece'"
      ]
     },
     "execution_count": 1,
     "metadata": {},
     "output_type": "execute_result"
    }
   ],
   "source": [
    "\"data sciece\""
   ]
  },
  {
   "cell_type": "code",
   "execution_count": 2,
   "id": "0b673503",
   "metadata": {},
   "outputs": [],
   "source": [
    "data = \"data science\""
   ]
  },
  {
   "cell_type": "code",
   "execution_count": 3,
   "id": "b16f4610",
   "metadata": {},
   "outputs": [
    {
     "name": "stdout",
     "output_type": "stream",
     "text": [
      "I love data science\n"
     ]
    }
   ],
   "source": [
    "print(\"I love \"+data)"
   ]
  },
  {
   "cell_type": "code",
   "execution_count": 7,
   "id": "1ffe75bc",
   "metadata": {},
   "outputs": [
    {
     "name": "stdout",
     "output_type": "stream",
     "text": [
      "i love data science $. because it is very power full element to take a proper decision\n"
     ]
    }
   ],
   "source": [
    "print(\"i love data science \" , \". because it is very power full element to take a proper decision\", sep='$')"
   ]
  },
  {
   "cell_type": "code",
   "execution_count": 8,
   "id": "dac76fff",
   "metadata": {},
   "outputs": [],
   "source": [
    "var = \"hello world\""
   ]
  },
  {
   "cell_type": "code",
   "execution_count": 9,
   "id": "46fbe072",
   "metadata": {},
   "outputs": [
    {
     "name": "stdout",
     "output_type": "stream",
     "text": [
      "hello world\n"
     ]
    }
   ],
   "source": [
    "print(var)"
   ]
  },
  {
   "cell_type": "code",
   "execution_count": 10,
   "id": "f383580e",
   "metadata": {},
   "outputs": [
    {
     "data": {
      "text/plain": [
       "2046977482544"
      ]
     },
     "execution_count": 10,
     "metadata": {},
     "output_type": "execute_result"
    }
   ],
   "source": [
    "id(var)"
   ]
  },
  {
   "cell_type": "code",
   "execution_count": 11,
   "id": "09e2e061",
   "metadata": {},
   "outputs": [
    {
     "data": {
      "text/plain": [
       "60"
      ]
     },
     "execution_count": 11,
     "metadata": {},
     "output_type": "execute_result"
    }
   ],
   "source": [
    "import sys\n",
    "sys.getsizeof(var)"
   ]
  },
  {
   "cell_type": "code",
   "execution_count": 12,
   "id": "332989ff",
   "metadata": {},
   "outputs": [
    {
     "data": {
      "text/plain": [
       "100"
      ]
     },
     "execution_count": 12,
     "metadata": {},
     "output_type": "execute_result"
    }
   ],
   "source": [
    "x = 100\n",
    "x"
   ]
  },
  {
   "cell_type": "code",
   "execution_count": 13,
   "id": "9bfada99",
   "metadata": {},
   "outputs": [],
   "source": [
    "y=200"
   ]
  },
  {
   "cell_type": "code",
   "execution_count": 14,
   "id": "bad2df82",
   "metadata": {},
   "outputs": [
    {
     "data": {
      "text/plain": [
       "200"
      ]
     },
     "execution_count": 14,
     "metadata": {},
     "output_type": "execute_result"
    }
   ],
   "source": [
    "y"
   ]
  },
  {
   "cell_type": "code",
   "execution_count": 15,
   "id": "4588f9b1",
   "metadata": {},
   "outputs": [
    {
     "data": {
      "text/plain": [
       "2046896792208"
      ]
     },
     "execution_count": 15,
     "metadata": {},
     "output_type": "execute_result"
    }
   ],
   "source": [
    "id(y)"
   ]
  },
  {
   "cell_type": "code",
   "execution_count": 16,
   "id": "986c0ff4",
   "metadata": {},
   "outputs": [
    {
     "data": {
      "text/plain": [
       "2046896788944"
      ]
     },
     "execution_count": 16,
     "metadata": {},
     "output_type": "execute_result"
    }
   ],
   "source": [
    "id(x)"
   ]
  },
  {
   "cell_type": "code",
   "execution_count": 17,
   "id": "4a99168f",
   "metadata": {},
   "outputs": [
    {
     "data": {
      "text/plain": [
       "28"
      ]
     },
     "execution_count": 17,
     "metadata": {},
     "output_type": "execute_result"
    }
   ],
   "source": [
    "sys.getsizeof(x)"
   ]
  },
  {
   "cell_type": "code",
   "execution_count": 18,
   "id": "5608224f",
   "metadata": {},
   "outputs": [
    {
     "data": {
      "text/plain": [
       "28"
      ]
     },
     "execution_count": 18,
     "metadata": {},
     "output_type": "execute_result"
    }
   ],
   "source": [
    "sys.getsizeof(y)"
   ]
  },
  {
   "cell_type": "code",
   "execution_count": 19,
   "id": "e1e55736",
   "metadata": {},
   "outputs": [],
   "source": [
    "x,y,w = 19,37,49"
   ]
  },
  {
   "cell_type": "code",
   "execution_count": 20,
   "id": "c18d3fe1",
   "metadata": {},
   "outputs": [
    {
     "data": {
      "text/plain": [
       "19"
      ]
     },
     "execution_count": 20,
     "metadata": {},
     "output_type": "execute_result"
    }
   ],
   "source": [
    "x"
   ]
  },
  {
   "cell_type": "code",
   "execution_count": 21,
   "id": "8a76d562",
   "metadata": {},
   "outputs": [
    {
     "data": {
      "text/plain": [
       "49"
      ]
     },
     "execution_count": 21,
     "metadata": {},
     "output_type": "execute_result"
    }
   ],
   "source": [
    "w"
   ]
  },
  {
   "cell_type": "markdown",
   "id": "9886f862",
   "metadata": {},
   "source": [
    "# local vs globalv"
   ]
  },
  {
   "cell_type": "code",
   "execution_count": 22,
   "id": "b3e58f9e",
   "metadata": {},
   "outputs": [],
   "source": [
    "t = 499"
   ]
  },
  {
   "cell_type": "code",
   "execution_count": 27,
   "id": "9acf5dd3",
   "metadata": {},
   "outputs": [
    {
     "name": "stdout",
     "output_type": "stream",
     "text": [
      "my number is  400\n",
      "499\n"
     ]
    }
   ],
   "source": [
    "def func1():\n",
    "    t=400\n",
    "    print(\"my number is \", t)\n",
    "func1()    \n",
    "\n",
    "print(t)"
   ]
  },
  {
   "cell_type": "markdown",
   "id": "0327d981",
   "metadata": {},
   "source": [
    "# input function"
   ]
  },
  {
   "cell_type": "code",
   "execution_count": 29,
   "id": "33b06f1a",
   "metadata": {},
   "outputs": [
    {
     "name": "stdout",
     "output_type": "stream",
     "text": [
      "enter your valid nameaman ullah\n",
      "My name is aman ullah\n"
     ]
    }
   ],
   "source": [
    "name = input('enter your valid name')\n",
    "print('My name is ' + name)"
   ]
  },
  {
   "cell_type": "code",
   "execution_count": 34,
   "id": "0bb34acd",
   "metadata": {},
   "outputs": [
    {
     "name": "stdout",
     "output_type": "stream",
     "text": [
      "enter even number6\n",
      "inter odd number4\n",
      "total sum is  10\n"
     ]
    }
   ],
   "source": [
    "x = int(input('enter even number'))\n",
    "y =int(input('inter odd number'))\n",
    "z = (x+y)\n",
    "print('total sum is ', + z)"
   ]
  },
  {
   "cell_type": "code",
   "execution_count": 36,
   "id": "0ff1de59",
   "metadata": {},
   "outputs": [
    {
     "data": {
      "text/plain": [
       "4"
      ]
     },
     "execution_count": 36,
     "metadata": {},
     "output_type": "execute_result"
    }
   ],
   "source": [
    "data = ' I am a data scientist data data data '\n",
    "data.count('data')"
   ]
  },
  {
   "cell_type": "code",
   "execution_count": 37,
   "id": "75f3bd63",
   "metadata": {},
   "outputs": [
    {
     "data": {
      "text/plain": [
       "3"
      ]
     },
     "execution_count": 37,
     "metadata": {},
     "output_type": "execute_result"
    }
   ],
   "source": [
    "data.find('a')"
   ]
  },
  {
   "cell_type": "code",
   "execution_count": 38,
   "id": "c3bdf461",
   "metadata": {},
   "outputs": [
    {
     "data": {
      "text/plain": [
       "8"
      ]
     },
     "execution_count": 38,
     "metadata": {},
     "output_type": "execute_result"
    }
   ],
   "source": [
    "data.find('data')"
   ]
  },
  {
   "cell_type": "markdown",
   "id": "c3abfd79",
   "metadata": {},
   "source": [
    "# python string methods"
   ]
  },
  {
   "cell_type": "code",
   "execution_count": 39,
   "id": "a73cf0e3",
   "metadata": {},
   "outputs": [
    {
     "data": {
      "text/plain": [
       "11"
      ]
     },
     "execution_count": 39,
     "metadata": {},
     "output_type": "execute_result"
    }
   ],
   "source": [
    "data1 = 'man is mortal is absolutely right'\n",
    "data1.find('a', 6,23)"
   ]
  },
  {
   "cell_type": "code",
   "execution_count": 40,
   "id": "e89743f0",
   "metadata": {},
   "outputs": [
    {
     "ename": "ValueError",
     "evalue": "substring not found",
     "output_type": "error",
     "traceback": [
      "\u001b[1;31m---------------------------------------------------------------------------\u001b[0m",
      "\u001b[1;31mValueError\u001b[0m                                Traceback (most recent call last)",
      "\u001b[1;32m~\\AppData\\Local\\Temp/ipykernel_1368/1373286358.py\u001b[0m in \u001b[0;36m<module>\u001b[1;34m\u001b[0m\n\u001b[1;32m----> 1\u001b[1;33m \u001b[0mdata1\u001b[0m\u001b[1;33m.\u001b[0m\u001b[0mindex\u001b[0m\u001b[1;33m(\u001b[0m\u001b[1;34m'is'\u001b[0m\u001b[1;33m,\u001b[0m\u001b[1;36m6\u001b[0m\u001b[1;33m,\u001b[0m\u001b[1;36m10\u001b[0m\u001b[1;33m)\u001b[0m\u001b[1;33m\u001b[0m\u001b[1;33m\u001b[0m\u001b[0m\n\u001b[0m",
      "\u001b[1;31mValueError\u001b[0m: substring not found"
     ]
    }
   ],
   "source": [
    "data1.index('is',6,10)"
   ]
  },
  {
   "cell_type": "code",
   "execution_count": 41,
   "id": "53fb321c",
   "metadata": {},
   "outputs": [
    {
     "data": {
      "text/plain": [
       "-1"
      ]
     },
     "execution_count": 41,
     "metadata": {},
     "output_type": "execute_result"
    }
   ],
   "source": [
    "data1.find('is',6,10)"
   ]
  },
  {
   "cell_type": "code",
   "execution_count": 43,
   "id": "fdc1079e",
   "metadata": {},
   "outputs": [
    {
     "data": {
      "text/plain": [
       "'MAN IS MORTAL IS ABSOLUTELY RIGHT'"
      ]
     },
     "execution_count": 43,
     "metadata": {},
     "output_type": "execute_result"
    }
   ],
   "source": [
    "data1.upper()"
   ]
  },
  {
   "cell_type": "code",
   "execution_count": 44,
   "id": "658c5ab3",
   "metadata": {},
   "outputs": [
    {
     "data": {
      "text/plain": [
       "'man is mortal is absolutely right'"
      ]
     },
     "execution_count": 44,
     "metadata": {},
     "output_type": "execute_result"
    }
   ],
   "source": [
    "data1.lower()"
   ]
  },
  {
   "cell_type": "code",
   "execution_count": 45,
   "id": "0e706f27",
   "metadata": {},
   "outputs": [
    {
     "data": {
      "text/plain": [
       "str"
      ]
     },
     "execution_count": 45,
     "metadata": {},
     "output_type": "execute_result"
    }
   ],
   "source": [
    "type(data1)"
   ]
  },
  {
   "cell_type": "code",
   "execution_count": 46,
   "id": "7a27408b",
   "metadata": {},
   "outputs": [
    {
     "data": {
      "text/plain": [
       "int"
      ]
     },
     "execution_count": 46,
     "metadata": {},
     "output_type": "execute_result"
    }
   ],
   "source": [
    "type(x)"
   ]
  },
  {
   "cell_type": "code",
   "execution_count": 47,
   "id": "64880be6",
   "metadata": {},
   "outputs": [
    {
     "data": {
      "text/plain": [
       "' i am a data scientist data data data '"
      ]
     },
     "execution_count": 47,
     "metadata": {},
     "output_type": "execute_result"
    }
   ],
   "source": [
    "data.casefold()"
   ]
  },
  {
   "cell_type": "code",
   "execution_count": 48,
   "id": "e40e6bb3",
   "metadata": {},
   "outputs": [
    {
     "data": {
      "text/plain": [
       "' i am a data scientist data data data '"
      ]
     },
     "execution_count": 48,
     "metadata": {},
     "output_type": "execute_result"
    }
   ],
   "source": [
    "data.capitalize()"
   ]
  },
  {
   "cell_type": "code",
   "execution_count": 49,
   "id": "7d792071",
   "metadata": {},
   "outputs": [
    {
     "data": {
      "text/plain": [
       "'Man is mortal is absolutely right'"
      ]
     },
     "execution_count": 49,
     "metadata": {},
     "output_type": "execute_result"
    }
   ],
   "source": [
    "data1.capitalize()"
   ]
  },
  {
   "cell_type": "code",
   "execution_count": 50,
   "id": "519b1633",
   "metadata": {},
   "outputs": [
    {
     "data": {
      "text/plain": [
       "' i AM A DATA SCIENTIST DATA DATA DATA '"
      ]
     },
     "execution_count": 50,
     "metadata": {},
     "output_type": "execute_result"
    }
   ],
   "source": [
    "data.swapcase()"
   ]
  },
  {
   "cell_type": "code",
   "execution_count": 51,
   "id": "c322c2da",
   "metadata": {},
   "outputs": [
    {
     "data": {
      "text/plain": [
       "' I Am A Data Scientist Data Data Data '"
      ]
     },
     "execution_count": 51,
     "metadata": {},
     "output_type": "execute_result"
    }
   ],
   "source": [
    "data.title()"
   ]
  },
  {
   "cell_type": "code",
   "execution_count": 52,
   "id": "36febac0",
   "metadata": {},
   "outputs": [],
   "source": [
    "y = 'I love data science'"
   ]
  },
  {
   "cell_type": "code",
   "execution_count": 53,
   "id": "5de0c03c",
   "metadata": {},
   "outputs": [
    {
     "data": {
      "text/plain": [
       "'i LOVE DATA SCIENCE'"
      ]
     },
     "execution_count": 53,
     "metadata": {},
     "output_type": "execute_result"
    }
   ],
   "source": [
    "y.swapcase()"
   ]
  },
  {
   "cell_type": "code",
   "execution_count": 54,
   "id": "5c793942",
   "metadata": {},
   "outputs": [
    {
     "data": {
      "text/plain": [
       "'I Love Data Science'"
      ]
     },
     "execution_count": 54,
     "metadata": {},
     "output_type": "execute_result"
    }
   ],
   "source": [
    "y.title()"
   ]
  },
  {
   "cell_type": "code",
   "execution_count": 56,
   "id": "8e4b4df5",
   "metadata": {},
   "outputs": [
    {
     "data": {
      "text/plain": [
       "b'I love data science'"
      ]
     },
     "execution_count": 56,
     "metadata": {},
     "output_type": "execute_result"
    }
   ],
   "source": [
    "y.encode()"
   ]
  },
  {
   "cell_type": "code",
   "execution_count": 57,
   "id": "54539578",
   "metadata": {},
   "outputs": [
    {
     "data": {
      "text/plain": [
       "bytes"
      ]
     },
     "execution_count": 57,
     "metadata": {},
     "output_type": "execute_result"
    }
   ],
   "source": [
    "type(y.encode())"
   ]
  },
  {
   "cell_type": "code",
   "execution_count": 58,
   "id": "23f560c8",
   "metadata": {},
   "outputs": [
    {
     "data": {
      "text/plain": [
       "['I', 'love', 'data', 'science']"
      ]
     },
     "execution_count": 58,
     "metadata": {},
     "output_type": "execute_result"
    }
   ],
   "source": [
    "y.split()"
   ]
  },
  {
   "cell_type": "code",
   "execution_count": 59,
   "id": "e04c10e8",
   "metadata": {},
   "outputs": [
    {
     "data": {
      "text/plain": [
       "'love'"
      ]
     },
     "execution_count": 59,
     "metadata": {},
     "output_type": "execute_result"
    }
   ],
   "source": [
    "y.split()[1]"
   ]
  },
  {
   "cell_type": "code",
   "execution_count": 60,
   "id": "b63998e6",
   "metadata": {},
   "outputs": [
    {
     "data": {
      "text/plain": [
       "'                                        I love data science                                         '"
      ]
     },
     "execution_count": 60,
     "metadata": {},
     "output_type": "execute_result"
    }
   ],
   "source": [
    "y.center(100)"
   ]
  },
  {
   "cell_type": "code",
   "execution_count": 61,
   "id": "6c0f6a01",
   "metadata": {},
   "outputs": [
    {
     "data": {
      "text/plain": [
       "'aman love data science'"
      ]
     },
     "execution_count": 61,
     "metadata": {},
     "output_type": "execute_result"
    }
   ],
   "source": [
    "y.replace('I','aman')"
   ]
  },
  {
   "cell_type": "code",
   "execution_count": 62,
   "id": "b6955d67",
   "metadata": {},
   "outputs": [],
   "source": [
    "x = 300\n",
    "y=500\n",
    "z = x+y"
   ]
  },
  {
   "cell_type": "code",
   "execution_count": 63,
   "id": "ecae7a52",
   "metadata": {},
   "outputs": [
    {
     "name": "stdout",
     "output_type": "stream",
     "text": [
      "i have only 800 taka \n"
     ]
    }
   ],
   "source": [
    "print('i have only {} taka '.format(z))"
   ]
  },
  {
   "cell_type": "code",
   "execution_count": 64,
   "id": "fa339f00",
   "metadata": {},
   "outputs": [
    {
     "name": "stdout",
     "output_type": "stream",
     "text": [
      "I have only 200 taka \n"
     ]
    }
   ],
   "source": [
    "print('I have only {} taka '.format(y-x))"
   ]
  },
  {
   "cell_type": "code",
   "execution_count": 65,
   "id": "e7a57bff",
   "metadata": {},
   "outputs": [
    {
     "name": "stdout",
     "output_type": "stream",
     "text": [
      "I have only 150000 taka \n"
     ]
    }
   ],
   "source": [
    "print('I have only {} taka '.format(y*x))"
   ]
  },
  {
   "cell_type": "code",
   "execution_count": 1,
   "id": "fe064b7d",
   "metadata": {},
   "outputs": [],
   "source": [
    "import array as ar"
   ]
  },
  {
   "cell_type": "code",
   "execution_count": 3,
   "id": "cacb5a5f",
   "metadata": {},
   "outputs": [
    {
     "data": {
      "text/plain": [
       "array('i', [1, 2, 3, 4])"
      ]
     },
     "execution_count": 3,
     "metadata": {},
     "output_type": "execute_result"
    }
   ],
   "source": [
    "ar.array(\"i\",[1,2,3,4])"
   ]
  },
  {
   "cell_type": "code",
   "execution_count": 4,
   "id": "320b7b41",
   "metadata": {},
   "outputs": [
    {
     "data": {
      "text/plain": [
       "['aman']"
      ]
     },
     "execution_count": 4,
     "metadata": {},
     "output_type": "execute_result"
    }
   ],
   "source": [
    "x = \"aman\"\n",
    "x.split()"
   ]
  },
  {
   "cell_type": "code",
   "execution_count": 5,
   "id": "a71e70b4",
   "metadata": {},
   "outputs": [],
   "source": [
    "#set"
   ]
  },
  {
   "cell_type": "code",
   "execution_count": 6,
   "id": "68d9c165",
   "metadata": {},
   "outputs": [
    {
     "data": {
      "text/plain": [
       "{1, 2, 4, 5, 6}"
      ]
     },
     "execution_count": 6,
     "metadata": {},
     "output_type": "execute_result"
    }
   ],
   "source": [
    "a = {1,2,4,5,2,6}\n",
    "a"
   ]
  },
  {
   "cell_type": "code",
   "execution_count": 7,
   "id": "df4239f6",
   "metadata": {},
   "outputs": [
    {
     "data": {
      "text/plain": [
       "set"
      ]
     },
     "execution_count": 7,
     "metadata": {},
     "output_type": "execute_result"
    }
   ],
   "source": [
    "type(a)\n"
   ]
  },
  {
   "cell_type": "code",
   "execution_count": 26,
   "id": "0f0a227b",
   "metadata": {},
   "outputs": [],
   "source": [
    "#dictionary\n",
    "\n",
    "d = {\n",
    "    \"name\":\"aman\",\n",
    "    \"department\":\"Data science\",\n",
    "    \"varsity\":\"dhaka University\"\n",
    "}"
   ]
  },
  {
   "cell_type": "code",
   "execution_count": 27,
   "id": "b8d0103b",
   "metadata": {},
   "outputs": [
    {
     "data": {
      "text/plain": [
       "dict"
      ]
     },
     "execution_count": 27,
     "metadata": {},
     "output_type": "execute_result"
    }
   ],
   "source": [
    "type(d)"
   ]
  },
  {
   "cell_type": "code",
   "execution_count": 28,
   "id": "4ced2145",
   "metadata": {},
   "outputs": [
    {
     "data": {
      "text/plain": [
       "dict"
      ]
     },
     "execution_count": 28,
     "metadata": {},
     "output_type": "execute_result"
    }
   ],
   "source": [
    "type(d)"
   ]
  },
  {
   "cell_type": "code",
   "execution_count": 10,
   "id": "a5020a31",
   "metadata": {},
   "outputs": [
    {
     "data": {
      "text/plain": [
       "dict_keys(['name', 'department', 'varsity'])"
      ]
     },
     "execution_count": 10,
     "metadata": {},
     "output_type": "execute_result"
    }
   ],
   "source": [
    "d.keys()"
   ]
  },
  {
   "cell_type": "code",
   "execution_count": 29,
   "id": "897cc273",
   "metadata": {},
   "outputs": [
    {
     "data": {
      "text/plain": [
       "dict_values(['aman', 'Data science', 'dhaka University'])"
      ]
     },
     "execution_count": 29,
     "metadata": {},
     "output_type": "execute_result"
    }
   ],
   "source": [
    "d.values()"
   ]
  },
  {
   "cell_type": "code",
   "execution_count": 30,
   "id": "cf1cccf3",
   "metadata": {},
   "outputs": [
    {
     "name": "stdout",
     "output_type": "stream",
     "text": [
      "name\n",
      "department\n",
      "varsity\n"
     ]
    }
   ],
   "source": [
    "for i in d:\n",
    "    print(i)"
   ]
  },
  {
   "cell_type": "code",
   "execution_count": 32,
   "id": "53810b01",
   "metadata": {},
   "outputs": [
    {
     "name": "stdout",
     "output_type": "stream",
     "text": [
      "aman\n",
      "Data science\n",
      "dhaka University\n"
     ]
    }
   ],
   "source": [
    "for i in d:\n",
    "    print(d[i])"
   ]
  },
  {
   "cell_type": "code",
   "execution_count": 33,
   "id": "574d78e8",
   "metadata": {},
   "outputs": [
    {
     "data": {
      "text/plain": [
       "'aman'"
      ]
     },
     "execution_count": 33,
     "metadata": {},
     "output_type": "execute_result"
    }
   ],
   "source": [
    "d['name']"
   ]
  },
  {
   "cell_type": "code",
   "execution_count": 4,
   "id": "c433d5ce",
   "metadata": {},
   "outputs": [
    {
     "name": "stdout",
     "output_type": "stream",
     "text": [
      "enter any number4\n",
      "good job you entered even number is 4\n"
     ]
    }
   ],
   "source": [
    "x = int(input(\"enter any number\"))\n",
    "\n",
    "if x % 2 == 0:\n",
    "    print('good job you entered even number is {}'.format(x))\n",
    "else :\n",
    "    x % 2 != 0 \n",
    "    print('thank you entered odd number is {}'.format(x))"
   ]
  },
  {
   "cell_type": "code",
   "execution_count": 6,
   "id": "438fef8a",
   "metadata": {},
   "outputs": [],
   "source": [
    "from IPython.display import Image"
   ]
  },
  {
   "cell_type": "code",
   "execution_count": 7,
   "id": "68182f45",
   "metadata": {},
   "outputs": [
    {
     "data": {
      "image/jpeg": "[encoded data removed]",
      "text/plain": [
       "<IPython.core.display.Image object>"
      ]
     },
     "execution_count": 7,
     "metadata": {},
     "output_type": "execute_result"
    }
   ],
   "source": [
    "Image('/images/dog.jpg')"
   ]
  },
  {
   "cell_type": "code",
   "execution_count": 9,
   "id": "0c0e2e65",
   "metadata": {},
   "outputs": [
    {
     "name": "stdout",
     "output_type": "stream",
     "text": [
      "enter an number25\n",
      "enter an breath number32\n",
      "it is a rectengle and its area is 800.0\n"
     ]
    }
   ],
   "source": [
    "length = float(input('enter an number'))\n",
    "breath = float(input('enter an breath number'))\n",
    "\n",
    "if length ==breath:\n",
    "    print('it is a square and its area is {}'.format(length*breath))\n",
    "    \n",
    "else :\n",
    "    print('it is a rectengle and its area is {}'.format(length*breath))"
   ]
  },
  {
   "cell_type": "code",
   "execution_count": null,
   "id": "91dac889",
   "metadata": {},
   "outputs": [],
   "source": []
  }
 ],
 "metadata": {
  "kernelspec": {
   "display_name": "Python 3 (ipykernel)",
   "language": "python",
   "name": "python3"
  },
  "language_info": {
   "codemirror_mode": {
    "name": "ipython",
    "version": 3
   },
   "file_extension": ".py",
   "mimetype": "text/x-python",
   "name": "python",
   "nbconvert_exporter": "python",
   "pygments_lexer": "ipython3",
   "version": "3.9.7"
  }
 },
 "nbformat": 4,
 "nbformat_minor": 5
}
